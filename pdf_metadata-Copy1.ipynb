{
 "cells": [
  {
   "cell_type": "code",
   "execution_count": 2,
   "metadata": {},
   "outputs": [
    {
     "name": "stdout",
     "output_type": "stream",
     "text": [
      "Collecting pikepdf\n",
      "  Downloading pikepdf-5.1.1-cp38-cp38-win_amd64.whl (3.4 MB)\n",
      "Requirement already satisfied: Pillow<10,>=6.0 in c:\\users\\admin\\anaconda3\\lib\\site-packages (from pikepdf) (8.0.1)\n",
      "Requirement already satisfied: packaging>=20 in c:\\users\\admin\\anaconda3\\lib\\site-packages (from pikepdf) (20.4)\n",
      "Requirement already satisfied: lxml>=4.0 in c:\\users\\admin\\anaconda3\\lib\\site-packages (from pikepdf) (4.6.1)\n",
      "Requirement already satisfied: six in c:\\users\\admin\\anaconda3\\lib\\site-packages (from packaging>=20->pikepdf) (1.15.0)\n",
      "Requirement already satisfied: pyparsing>=2.0.2 in c:\\users\\admin\\anaconda3\\lib\\site-packages (from packaging>=20->pikepdf) (2.4.7)\n",
      "Installing collected packages: pikepdf\n",
      "Successfully installed pikepdf-5.1.1\n"
     ]
    }
   ],
   "source": [
    "!pip install pikepdf"
   ]
  },
  {
   "cell_type": "code",
   "execution_count": 2,
   "metadata": {},
   "outputs": [],
   "source": [
    "import pikepdf\n",
    "import sys"
   ]
  },
  {
   "cell_type": "code",
   "execution_count": 3,
   "metadata": {},
   "outputs": [],
   "source": [
    "#get the target pdf file from the command-line arguments\n",
    "pdf_filename = sys.argv[1]"
   ]
  },
  {
   "cell_type": "code",
   "execution_count": 4,
   "metadata": {},
   "outputs": [
    {
     "name": "stdout",
     "output_type": "stream",
     "text": [
      "/Author : Prerak Bhatt;Dr Parag Rughani\n",
      "/CreationDate : D:20171011125629+05'30'\n",
      "/Creator : Acrobat PDFMaker 9.0 for Word\n",
      "/ModDate : D:20171011125639+05'30'\n",
      "/Producer : Adobe PDF Library 9.0\n",
      "/SourceModified : D:20171010124704\n",
      "/Title : Machine Learning Forensics: A new branch of Digital Forensics\n",
      "/rgid : PB:320803999_AS:650464156721163@1532094148844\n"
     ]
    }
   ],
   "source": [
    "# read the pdf file\n",
    "\n",
    "pdf = pikepdf.Pdf.open('pb.pdf')\n",
    "docinfo = pdf.docinfo\n",
    "for key, value in docinfo.items():\n",
    "    print(key, \":\", value)"
   ]
  },
  {
   "cell_type": "code",
   "execution_count": 8,
   "metadata": {},
   "outputs": [
    {
     "name": "stdout",
     "output_type": "stream",
     "text": [
      "file name is: docs\\deep learning to analyze pdfs.pdf  || creator name is : LaTeX with hyperref package\n",
      "---------------------\n",
      "file name is: docs\\FinakPaper.pdf  || creator name is : Microsoft® PowerPoint® 2016\n",
      "---------------------\n",
      "file name is: docs\\pb.pdf  || creator name is : Acrobat PDFMaker 9.0 for Word\n",
      "---------------------\n",
      "file name is: docs\\pdff.pdf  || creator name is : PDFium\n",
      "---------------------\n"
     ]
    }
   ],
   "source": [
    "import os\n",
    "import csv\n",
    "import numpy as np\n",
    "# assign directory\n",
    "directory = 'docs'\n",
    " \n",
    "# iterate over files in\n",
    "# that directory\n",
    "with open('GFG.csv', 'w') as csvfile:\n",
    "    fieldnames = ['file_name', 'Creator_name', 'Author Name']\n",
    "    writer = csv.DictWriter(csvfile, fieldnames=fieldnames)\n",
    "    writer.writeheader()\n",
    "    for filename in os.listdir(directory):\n",
    "        f = os.path.join(directory, filename)\n",
    "        # checking if it is a file\n",
    "        if (os.path.isfile(f) and filename.endswith((\".txt\", \".pdf\", \".mp3\"))):\n",
    "            pdf = pikepdf.Pdf.open(filename)\n",
    "            docinfo = pdf.docinfo\n",
    "            if(hasattr(docinfo, 'Author')):\n",
    "                writer.writerow({'file_name': f, 'Creator_name': docinfo['/Creator'], 'Author Name': docinfo['/Author'] })\n",
    "                print(\"file name is:\",f,\" || \", \"creator name is\", \":\", docinfo['/Creator'],\" || \", 'Author Name is:', docinfo['/Author'] )\n",
    "                print(\"---------------------\")\n",
    "            else:    \n",
    "                writer.writerow({'file_name': f, 'Creator_name': docinfo['/Creator'], 'Author Name': \"NA\" })\n",
    "                print(\"file name is:\",f,\" || \", \"creator name is\", \":\", docinfo['/Creator'],\" || \", 'Author Name is:', \"NA\" )\n",
    "                print(\"---------------------\")\n",
    "        else if(filename.endswith((\".jpg\", \".jpeg\", \".png\")):\n",
    "            print(f)"
   ]
  },
  {
   "cell_type": "code",
   "execution_count": null,
   "metadata": {},
   "outputs": [],
   "source": []
  }
 ],
 "metadata": {
  "kernelspec": {
   "display_name": "Python 3",
   "language": "python",
   "name": "python3"
  },
  "language_info": {
   "codemirror_mode": {
    "name": "ipython",
    "version": 3
   },
   "file_extension": ".py",
   "mimetype": "text/x-python",
   "name": "python",
   "nbconvert_exporter": "python",
   "pygments_lexer": "ipython3",
   "version": "3.8.5"
  }
 },
 "nbformat": 4,
 "nbformat_minor": 4
}
