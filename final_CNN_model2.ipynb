{
 "cells": [
  {
   "cell_type": "code",
   "execution_count": 14,
   "metadata": {},
   "outputs": [],
   "source": [
    "%matplotlib inline\n",
    "import matplotlib.pyplot as plt\n",
    "from PIL import Image\n",
    "import numpy as np\n",
    "import math\n",
    "import copy\n",
    "import numpy as np\n"
   ]
  },
  {
   "cell_type": "code",
   "execution_count": 15,
   "metadata": {},
   "outputs": [],
   "source": [
    "import glob\n",
    "from keras.models import Sequential, Model\n",
    "from keras.layers import Input, Dense, Flatten, Dropout, Activation, Lambda, Permute, Reshape\n",
    "from keras.layers import Convolution2D, ZeroPadding2D, MaxPooling2D\n",
    "from keras.applications.vgg16 import VGG16\n",
    "import os\n",
    "import seaborn as sns\n",
    "from keras import applications"
   ]
  },
  {
   "cell_type": "code",
   "execution_count": 16,
   "metadata": {},
   "outputs": [],
   "source": [
    "from sklearn.datasets import load_files       \n",
    "from keras.utils import np_utils\n",
    "import pandas as pd\n",
    "import cv2\n",
    "import scipy.misc\n",
    "import matplotlib.pyplot as plt\n",
    "from tqdm import tqdm\n",
    "from keras.preprocessing.image import load_img, img_to_array, ImageDataGenerator"
   ]
  },
  {
   "cell_type": "code",
   "execution_count": 17,
   "metadata": {},
   "outputs": [
    {
     "name": "stdout",
     "output_type": "stream",
     "text": [
      "Found 29452 images belonging to 2 classes.\n",
      "Found 10816 images belonging to 2 classes.\n",
      "Found 10030 images belonging to 2 classes.\n"
     ]
    }
   ],
   "source": [
    "base_path = 'combined/'\n",
    "image_gen = ImageDataGenerator(rescale=1./255.)\n",
    "batch_size = 64\n",
    "train_flow = image_gen.flow_from_directory(\n",
    "    base_path + 'train/',\n",
    "    target_size=(224, 224),\n",
    "    batch_size=batch_size,\n",
    "    class_mode='binary'\n",
    ")\n",
    "valid_flow = image_gen.flow_from_directory(\n",
    "    base_path + 'valid/',\n",
    "    target_size=(224, 224),\n",
    "    batch_size=batch_size,\n",
    "    class_mode='binary'\n",
    ")\n",
    "test_flow = image_gen.flow_from_directory(\n",
    "    base_path + 'test/',\n",
    "    target_size=(224, 224),\n",
    "    batch_size=1,\n",
    "    shuffle=False,\n",
    "    class_mode='binary'\n",
    ")"
   ]
  },
  {
   "cell_type": "code",
   "execution_count": 18,
   "metadata": {},
   "outputs": [],
   "source": [
    "from keras.layers import Conv2D, MaxPooling2D, GlobalAveragePooling2D\n",
    "from keras.layers import Dropout, Flatten, Dense\n",
    "from keras.models import Sequential\n",
    "from keras.layers.normalization import BatchNormalization"
   ]
  },
  {
   "cell_type": "code",
   "execution_count": 19,
   "metadata": {},
   "outputs": [
    {
     "name": "stdout",
     "output_type": "stream",
     "text": [
      "Model: \"sequential_3\"\n",
      "_________________________________________________________________\n",
      "Layer (type)                 Output Shape              Param #   \n",
      "=================================================================\n",
      "batch_normalization_7 (Batch (None, 224, 224, 3)       12        \n",
      "_________________________________________________________________\n",
      "conv2d_6 (Conv2D)            (None, 224, 224, 16)      448       \n",
      "_________________________________________________________________\n",
      "max_pooling2d_6 (MaxPooling2 (None, 112, 112, 16)      0         \n",
      "_________________________________________________________________\n",
      "batch_normalization_8 (Batch (None, 112, 112, 16)      64        \n",
      "_________________________________________________________________\n",
      "conv2d_7 (Conv2D)            (None, 112, 112, 32)      4640      \n",
      "_________________________________________________________________\n",
      "max_pooling2d_7 (MaxPooling2 (None, 56, 56, 32)        0         \n",
      "_________________________________________________________________\n",
      "batch_normalization_9 (Batch (None, 56, 56, 32)        128       \n",
      "_________________________________________________________________\n",
      "dropout_5 (Dropout)          (None, 56, 56, 32)        0         \n",
      "_________________________________________________________________\n",
      "conv2d_8 (Conv2D)            (None, 56, 56, 64)        18496     \n",
      "_________________________________________________________________\n",
      "max_pooling2d_8 (MaxPooling2 (None, 28, 28, 64)        0         \n",
      "_________________________________________________________________\n",
      "batch_normalization_10 (Batc (None, 28, 28, 64)        256       \n",
      "_________________________________________________________________\n",
      "dropout_6 (Dropout)          (None, 28, 28, 64)        0         \n",
      "_________________________________________________________________\n",
      "conv2d_9 (Conv2D)            (None, 28, 28, 128)       73856     \n",
      "_________________________________________________________________\n",
      "max_pooling2d_9 (MaxPooling2 (None, 14, 14, 128)       0         \n",
      "_________________________________________________________________\n",
      "batch_normalization_11 (Batc (None, 14, 14, 128)       512       \n",
      "_________________________________________________________________\n",
      "dropout_7 (Dropout)          (None, 14, 14, 128)       0         \n",
      "_________________________________________________________________\n",
      "conv2d_10 (Conv2D)           (None, 14, 14, 256)       295168    \n",
      "_________________________________________________________________\n",
      "max_pooling2d_10 (MaxPooling (None, 7, 7, 256)         0         \n",
      "_________________________________________________________________\n",
      "batch_normalization_12 (Batc (None, 7, 7, 256)         1024      \n",
      "_________________________________________________________________\n",
      "dropout_8 (Dropout)          (None, 7, 7, 256)         0         \n",
      "_________________________________________________________________\n",
      "conv2d_11 (Conv2D)           (None, 7, 7, 512)         1180160   \n",
      "_________________________________________________________________\n",
      "max_pooling2d_11 (MaxPooling (None, 3, 3, 512)         0         \n",
      "_________________________________________________________________\n",
      "batch_normalization_13 (Batc (None, 3, 3, 512)         2048      \n",
      "_________________________________________________________________\n",
      "dropout_9 (Dropout)          (None, 3, 3, 512)         0         \n",
      "_________________________________________________________________\n",
      "global_average_pooling2d_1 ( (None, 512)               0         \n",
      "_________________________________________________________________\n",
      "dense_1 (Dense)              (None, 1)                 513       \n",
      "=================================================================\n",
      "Total params: 1,577,325\n",
      "Trainable params: 1,575,303\n",
      "Non-trainable params: 2,022\n",
      "_________________________________________________________________\n"
     ]
    }
   ],
   "source": [
    "model = Sequential()\n",
    "\n",
    "# Pamameters Initialization\n",
    "input_shape = (224,224,3)\n",
    "activation = 'relu'\n",
    "padding = 'same'\n",
    "droprate = 0.1\n",
    "epsilon=0.001\n",
    "\n",
    "model = Sequential()\n",
    "model.add(BatchNormalization(input_shape=input_shape))\n",
    "model.add(Conv2D(filters=16, kernel_size=3, activation=activation, padding=padding))\n",
    "model.add(MaxPooling2D(pool_size=2))\n",
    "model.add(BatchNormalization(epsilon=epsilon))\n",
    "\n",
    "\n",
    "model.add(Conv2D(filters=32, kernel_size=3, activation=activation, padding=padding))\n",
    "model.add(MaxPooling2D(pool_size=2))\n",
    "model.add(BatchNormalization(epsilon=epsilon))\n",
    "model.add(Dropout(droprate))\n",
    "\n",
    "model.add(Conv2D(filters=64, kernel_size=3, activation=activation, padding=padding))\n",
    "model.add(MaxPooling2D(pool_size=2))\n",
    "model.add(BatchNormalization(epsilon=epsilon))\n",
    "model.add(Dropout(droprate))\n",
    "\n",
    "model.add(Conv2D(filters=128, kernel_size=3, activation=activation, padding=padding))\n",
    "model.add(MaxPooling2D(pool_size=2))\n",
    "model.add(BatchNormalization(epsilon=epsilon))\n",
    "model.add(Dropout(droprate))\n",
    "\n",
    "model.add(Conv2D(filters=256, kernel_size=3, activation=activation, padding=padding))\n",
    "model.add(MaxPooling2D(pool_size=2))\n",
    "model.add(BatchNormalization(epsilon=epsilon))\n",
    "model.add(Dropout(droprate))\n",
    "\n",
    "model.add(Conv2D(filters=512, kernel_size=3, activation=activation, padding=padding))\n",
    "model.add(MaxPooling2D(pool_size=2))\n",
    "model.add(BatchNormalization(epsilon=epsilon))\n",
    "model.add(Dropout(droprate))\n",
    "\n",
    "model.add(GlobalAveragePooling2D())\n",
    "model.add(Dense(1, activation='sigmoid'))\n",
    "\n",
    "model.summary() "
   ]
  },
  {
   "cell_type": "code",
   "execution_count": 20,
   "metadata": {},
   "outputs": [],
   "source": [
    "from keras.optimizers import SGD,Adam,Adadelta\n",
    "from tensorflow.keras.optimizers import RMSprop\n",
    "\n",
    "#opt = rmsprop(lr=0.0001, decay=1e-6)\n",
    "\n",
    "model.compile(loss='binary_crossentropy',optimizer=Adam(0.0001), metrics=['accuracy'])"
   ]
  },
  {
   "cell_type": "code",
   "execution_count": 29,
   "metadata": {},
   "outputs": [
    {
     "name": "stdout",
     "output_type": "stream",
     "text": [
      "Epoch 1/18\n",
      "250/250 [==============================] - 1556s 6s/step - loss: 0.5021 - accuracy: 0.7560 - val_loss: 0.5673 - val_accuracy: 0.7066\n",
      "Epoch 2/18\n",
      "250/250 [==============================] - 1338s 5s/step - loss: 0.4741 - accuracy: 0.7789 - val_loss: 0.4587 - val_accuracy: 0.7836\n",
      "Epoch 3/18\n",
      "250/250 [==============================] - 1328s 5s/step - loss: 0.4437 - accuracy: 0.7962 - val_loss: 0.4531 - val_accuracy: 0.7797\n",
      "Epoch 4/18\n",
      "250/250 [==============================] - 1343s 5s/step - loss: 0.4172 - accuracy: 0.8139 - val_loss: 0.3864 - val_accuracy: 0.8277\n",
      "Epoch 5/18\n",
      "250/250 [==============================] - 1454s 6s/step - loss: 0.3961 - accuracy: 0.8241 - val_loss: 0.5668 - val_accuracy: 0.7219\n",
      "Epoch 6/18\n",
      "250/250 [==============================] - 1446s 6s/step - loss: 0.3736 - accuracy: 0.8353 - val_loss: 0.4911 - val_accuracy: 0.7559\n",
      "Epoch 7/18\n",
      "250/250 [==============================] - 1336s 5s/step - loss: 0.3575 - accuracy: 0.8481 - val_loss: 0.3849 - val_accuracy: 0.8188\n",
      "Epoch 8/18\n",
      "250/250 [==============================] - 1413s 6s/step - loss: 0.3330 - accuracy: 0.8593 - val_loss: 0.3311 - val_accuracy: 0.8578\n",
      "Epoch 9/18\n",
      "250/250 [==============================] - 1365s 5s/step - loss: 0.3099 - accuracy: 0.8722 - val_loss: 0.4006 - val_accuracy: 0.8152\n",
      "Epoch 10/18\n",
      "250/250 [==============================] - 1292s 5s/step - loss: 0.2961 - accuracy: 0.8769 - val_loss: 0.4233 - val_accuracy: 0.8148\n",
      "Epoch 11/18\n",
      "250/250 [==============================] - 1290s 5s/step - loss: 0.2718 - accuracy: 0.8891 - val_loss: 0.2995 - val_accuracy: 0.8625\n",
      "Epoch 12/18\n",
      "250/250 [==============================] - 1427s 6s/step - loss: 0.2577 - accuracy: 0.8951 - val_loss: 0.4170 - val_accuracy: 0.8082\n",
      "Epoch 13/18\n",
      "250/250 [==============================] - 1298s 5s/step - loss: 0.2370 - accuracy: 0.9060 - val_loss: 0.2664 - val_accuracy: 0.8875\n",
      "Epoch 14/18\n",
      "250/250 [==============================] - 1291s 5s/step - loss: 0.2332 - accuracy: 0.9050 - val_loss: 0.5342 - val_accuracy: 0.7715\n",
      "Epoch 15/18\n",
      "250/250 [==============================] - 1315s 5s/step - loss: 0.2148 - accuracy: 0.9156 - val_loss: 0.2625 - val_accuracy: 0.8852\n",
      "Epoch 16/18\n",
      "250/250 [==============================] - 1325s 5s/step - loss: 0.2036 - accuracy: 0.9202 - val_loss: 0.3308 - val_accuracy: 0.8629\n",
      "Epoch 17/18\n",
      "250/250 [==============================] - 1296s 5s/step - loss: 0.1873 - accuracy: 0.9283 - val_loss: 0.3088 - val_accuracy: 0.8727\n",
      "Epoch 18/18\n",
      "250/250 [==============================] - 1294s 5s/step - loss: 0.1845 - accuracy: 0.9303 - val_loss: 0.2950 - val_accuracy: 0.8762\n"
     ]
    }
   ],
   "source": [
    "train_steps = 16000\n",
    "valid_steps = 2600\n",
    "history = model.fit_generator(\n",
    "    train_flow,\n",
    "    epochs=18,\n",
    "    steps_per_epoch = train_steps,\n",
    "    validation_data = valid_flow,\n",
    "    validation_steps = valid_steps\n",
    ")"
   ]
  },
  {
   "cell_type": "code",
   "execution_count": 30,
   "metadata": {},
   "outputs": [],
   "source": [
    "model.save(\"custom_model.h5\") "
   ]
  },
  {
   "cell_type": "code",
   "execution_count": 37,
   "metadata": {},
   "outputs": [],
   "source": [
    "def plot_loss(epochs, loss, val_loss):\n",
    "    plt.plot(epochs, loss, 'bo', label='Training Loss')\n",
    "    plt.plot(epochs, val_loss, 'orange', label = 'Validation Loss')\n",
    "    plt.title('Training and Validation Loss')\n",
    "    plt.legend()\n",
    "    plt.show()\n",
    "\n",
    "def plot_accuracy(epochs, acc, val_acc):\n",
    "    plt.plot(epochs, acc, 'bo', label='Training accuracy')\n",
    "    plt.plot(epochs, val_acc, 'orange', label = 'Validation accuracy')\n",
    "    plt.title('Training and Validation Accuracy')\n",
    "    plt.legend()\n",
    "    plt.show()"
   ]
  },
  {
   "cell_type": "code",
   "execution_count": 38,
   "metadata": {},
   "outputs": [],
   "source": [
    "acc = history.history['accuracy']\n",
    "val_acc = history.history['val_accuracy']\n",
    "loss = history.history['loss']\n",
    "val_loss = history.history['val_loss']"
   ]
  },
  {
   "cell_type": "code",
   "execution_count": 39,
   "metadata": {},
   "outputs": [
    {
     "data": {
      "image/png": "[encoded data removed]",
      "text/plain": [
       "<Figure size 432x288 with 1 Axes>"
      ]
     },
     "metadata": {
      "needs_background": "light"
     },
     "output_type": "display_data"
    },
    {
     "data": {
      "image/png": "[encoded data removed]",
      "text/plain": [
       "<Figure size 432x288 with 1 Axes>"
      ]
     },
     "metadata": {
      "needs_background": "light"
     },
     "output_type": "display_data"
    }
   ],
   "source": [
    "plot_loss(range(1, len(loss) + 1), loss, val_loss)\n",
    "plot_accuracy(range(1, len(loss) + 1), acc, val_acc)"
   ]
  },
  {
   "cell_type": "code",
   "execution_count": 40,
   "metadata": {},
   "outputs": [],
   "source": [
    "y_pred = model.predict(test_flow)\n",
    "y_test = test_flow.classes"
   ]
  },
  {
   "cell_type": "code",
   "execution_count": 35,
   "metadata": {},
   "outputs": [
    {
     "name": "stdout",
     "output_type": "stream",
     "text": [
      "ROC AUC Score: 0.9727627413358916\n",
      "AP Score: 0.9743021069063329\n",
      "\n",
      "              precision    recall  f1-score   support\n",
      "\n",
      "           0       0.82      0.96      0.89      4650\n",
      "           1       0.96      0.82      0.88      5380\n",
      "\n",
      "    accuracy                           0.88     10030\n",
      "   macro avg       0.89      0.89      0.88     10030\n",
      "weighted avg       0.90      0.88      0.88     10030\n",
      "\n"
     ]
    }
   ],
   "source": [
    "from sklearn import metrics\n",
    "print(\"ROC AUC Score:\", metrics.roc_auc_score(y_test, y_pred))\n",
    "print(\"AP Score:\", metrics.average_precision_score(y_test, y_pred))\n",
    "print()\n",
    "print(metrics.classification_report(y_test, y_pred > 0.5))"
   ]
  }
 ],
 "metadata": {
  "kernelspec": {
   "display_name": "Python 3",
   "language": "python",
   "name": "python3"
  },
  "language_info": {
   "codemirror_mode": {
    "name": "ipython",
    "version": 3
   },
   "file_extension": ".py",
   "mimetype": "text/x-python",
   "name": "python",
   "nbconvert_exporter": "python",
   "pygments_lexer": "ipython3",
   "version": "3.8.5"
  }
 },
 "nbformat": 4,
 "nbformat_minor": 4
}
